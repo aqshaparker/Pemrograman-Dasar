{
  "nbformat": 4,
  "nbformat_minor": 0,
  "metadata": {
    "colab": {
      "provenance": [],
      "authorship_tag": "ABX9TyN/PI2JhP2yolRxKj5JdOzE",
      "include_colab_link": true
    },
    "kernelspec": {
      "name": "python3",
      "display_name": "Python 3"
    },
    "language_info": {
      "name": "python"
    }
  },
  "cells": [
    {
      "cell_type": "markdown",
      "metadata": {
        "id": "view-in-github",
        "colab_type": "text"
      },
      "source": [
        "<a href=\"https://colab.research.google.com/github/aqshaparker/Pemrograman-Dasar/blob/main/tipe_program.ipynb\" target=\"_parent\"><img src=\"https://colab.research.google.com/assets/colab-badge.svg\" alt=\"Open In Colab\"/></a>"
      ]
    },
    {
      "cell_type": "code",
      "source": [
        "x = 7\n",
        "print(type(x))\n",
        "\n",
        "x = 7.7\n",
        "print(type(x))\n",
        "\n",
        "x = 1 + 7j\n",
        "print(type(x))"
      ],
      "metadata": {
        "colab": {
          "base_uri": "https://localhost:8080/"
        },
        "id": "fhETPp8VYiLF",
        "outputId": "a8b6b63f-d0f3-4b78-b003-90f805c17318"
      },
      "execution_count": null,
      "outputs": [
        {
          "output_type": "stream",
          "name": "stdout",
          "text": [
            "<class 'int'>\n",
            "<class 'float'>\n",
            "<class 'complex'>\n"
          ]
        }
      ]
    },
    {
      "cell_type": "code",
      "source": [
        "var = 99\n",
        "print(var)\n",
        "print(id(var))\n",
        "\n",
        "var = 100\n",
        "print(var)\n",
        "print(id(var))"
      ],
      "metadata": {
        "colab": {
          "base_uri": "https://localhost:8080/"
        },
        "id": "gfovuxjLY0yS",
        "outputId": "bdd738e2-ee26-40a4-ca73-934cdc804136"
      },
      "execution_count": null,
      "outputs": [
        {
          "output_type": "stream",
          "name": "stdout",
          "text": [
            "99\n",
            "11645224\n",
            "100\n",
            "11645256\n"
          ]
        }
      ]
    },
    {
      "cell_type": "code",
      "source": [
        "multi_line = \"\"\"halo\n",
        "aku aril jelek\n",
        "aku suka di kebun\n",
        "aku suka mancing ikan di kolam\"\"\"\n",
        "print(multi_line)"
      ],
      "metadata": {
        "colab": {
          "base_uri": "https://localhost:8080/"
        },
        "id": "Pkg3nGYeZzJf",
        "outputId": "83a8405a-b457-434f-d663-3d9f748b8b0d"
      },
      "execution_count": null,
      "outputs": [
        {
          "output_type": "stream",
          "name": "stdout",
          "text": [
            "halo\n",
            "aku aril jelek\n",
            "aku suka di kebun\n",
            "aku suka mancing ikan di kolam\n"
          ]
        }
      ]
    },
    {
      "cell_type": "code",
      "source": [
        "x  = \"aril jelek\"\n",
        "print(x[5])"
      ],
      "metadata": {
        "colab": {
          "base_uri": "https://localhost:8080/"
        },
        "id": "SYaa-WbOan17",
        "outputId": "a3d79254-4aa9-4391-f91b-214093de11db"
      },
      "execution_count": null,
      "outputs": [
        {
          "output_type": "stream",
          "name": "stdout",
          "text": [
            "j\n"
          ]
        }
      ]
    },
    {
      "cell_type": "code",
      "source": [
        "x = \"aril jelek\"\n",
        "print(x[0:])"
      ],
      "metadata": {
        "colab": {
          "base_uri": "https://localhost:8080/"
        },
        "id": "bv9Aubz0bI65",
        "outputId": "13dcf583-a907-49d4-f219-0a931ebd9f40"
      },
      "execution_count": null,
      "outputs": [
        {
          "output_type": "stream",
          "name": "stdout",
          "text": [
            "aril jelek\n"
          ]
        }
      ]
    },
    {
      "cell_type": "code",
      "source": [
        "nama = \"aqsha parker\"\n",
        "print(f\"watsap, my name is {nama}\")"
      ],
      "metadata": {
        "colab": {
          "base_uri": "https://localhost:8080/"
        },
        "id": "dYQfs-XvbwSc",
        "outputId": "fe4e32ea-8ffc-4612-f851-f121863aca25"
      },
      "execution_count": null,
      "outputs": [
        {
          "output_type": "stream",
          "name": "stdout",
          "text": [
            "watsap, my name is aqsha parker\n"
          ]
        }
      ]
    },
    {
      "cell_type": "code",
      "source": [
        "nama = \"aqsha parker\"\n",
        "print(\"nama saya {}\".format (nama))"
      ],
      "metadata": {
        "colab": {
          "base_uri": "https://localhost:8080/"
        },
        "id": "D3aHdq7yccU9",
        "outputId": "1f8ecd3c-c033-4796-c900-f900079c8a3c"
      },
      "execution_count": null,
      "outputs": [
        {
          "output_type": "stream",
          "name": "stdout",
          "text": [
            "nama saya aqsha parker\n"
          ]
        }
      ]
    },
    {
      "cell_type": "code",
      "source": [
        "nama = \"aqsha parker\"\n",
        "print(\"nama saya :\", nama)"
      ],
      "metadata": {
        "colab": {
          "base_uri": "https://localhost:8080/"
        },
        "id": "WfmFMM1Kcy3V",
        "outputId": "3cf9b4f4-40c0-45a7-b409-f91bc63c2c98"
      },
      "execution_count": null,
      "outputs": [
        {
          "output_type": "stream",
          "name": "stdout",
          "text": [
            "nama saya : aqsha parker\n"
          ]
        }
      ]
    },
    {
      "cell_type": "code",
      "source": [
        "x = [1, 2, 3, 4, 5, 6, 6.5]\n",
        "print(x)"
      ],
      "metadata": {
        "colab": {
          "base_uri": "https://localhost:8080/"
        },
        "id": "OV04bfvidDgl",
        "outputId": "23feced7-00b7-40d4-9e01-9fa12929832e"
      },
      "execution_count": null,
      "outputs": [
        {
          "output_type": "stream",
          "name": "stdout",
          "text": [
            "[1, 2, 3, 4, 5, 6, 6.5]\n"
          ]
        }
      ]
    },
    {
      "cell_type": "code",
      "source": [
        "x = [1, 3, 5, 7]\n",
        "x[0] = \"askoparker\"\n",
        "x[3] = \"arilfomo\"\n",
        "print(x)"
      ],
      "metadata": {
        "colab": {
          "base_uri": "https://localhost:8080/"
        },
        "id": "3ao1PinzhM6H",
        "outputId": "07fa22d9-f45f-4af6-fd60-0b2b253504e2"
      },
      "execution_count": null,
      "outputs": [
        {
          "output_type": "stream",
          "name": "stdout",
          "text": [
            "['askoparker', 3, 5, 'arilfomo']\n"
          ]
        }
      ]
    },
    {
      "cell_type": "code",
      "source": [
        "x = [1, 2.5, False, \"aril fomo\"]\n",
        "print(x[3])\n",
        "\n",
        "x = [5, \"roboroarz\", 9.5]\n",
        "x[2] = \"aril fomo\"\n",
        "print(x)"
      ],
      "metadata": {
        "colab": {
          "base_uri": "https://localhost:8080/"
        },
        "id": "j0ZXOw3dhhG4",
        "outputId": "83e25a97-178a-40ff-bb0f-051fa156ff88"
      },
      "execution_count": null,
      "outputs": [
        {
          "output_type": "stream",
          "name": "stdout",
          "text": [
            "aril fomo\n",
            "[5, 'roboroarz', 'aril fomo']\n"
          ]
        }
      ]
    },
    {
      "cell_type": "code",
      "source": [
        "numbers = [2, 4, 6, 8]\n",
        "numbers[2] = 2089\n",
        "print(numbers)"
      ],
      "metadata": {
        "colab": {
          "base_uri": "https://localhost:8080/"
        },
        "id": "I9AzD63kqXXf",
        "outputId": "90dcbd0d-ac57-4dff-fd04-05ba6f021595"
      },
      "execution_count": null,
      "outputs": [
        {
          "output_type": "stream",
          "name": "stdout",
          "text": [
            "[2, 4, 2089, 8]\n"
          ]
        }
      ]
    },
    {
      "cell_type": "code",
      "source": [
        "numbers = [1,3,5]\n",
        "numbers.insert(4, 6)\n",
        "print(numbers)"
      ],
      "metadata": {
        "colab": {
          "base_uri": "https://localhost:8080/"
        },
        "id": "g6ENDtDal988",
        "outputId": "f1975018-c521-4911-be11-7f5220f405a1"
      },
      "execution_count": null,
      "outputs": [
        {
          "output_type": "stream",
          "name": "stdout",
          "text": [
            "[1, 3, 5, 6]\n"
          ]
        }
      ]
    },
    {
      "cell_type": "code",
      "source": [],
      "metadata": {
        "id": "Ml6RRK27puwU"
      },
      "execution_count": null,
      "outputs": []
    }
  ]
}