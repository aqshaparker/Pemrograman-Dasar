{
  "nbformat": 4,
  "nbformat_minor": 0,
  "metadata": {
    "colab": {
      "provenance": [],
      "authorship_tag": "ABX9TyMkewdGRKPlD8DqQsk5WacK",
      "include_colab_link": true
    },
    "kernelspec": {
      "name": "python3",
      "display_name": "Python 3"
    },
    "language_info": {
      "name": "python"
    }
  },
  "cells": [
    {
      "cell_type": "markdown",
      "metadata": {
        "id": "view-in-github",
        "colab_type": "text"
      },
      "source": [
        "<a href=\"https://colab.research.google.com/github/aqshaparker/Pemrograman-Dasar/blob/main/control_flow.ipynb\" target=\"_parent\"><img src=\"https://colab.research.google.com/assets/colab-badge.svg\" alt=\"Open In Colab\"/></a>"
      ]
    },
    {
      "cell_type": "code",
      "execution_count": null,
      "metadata": {
        "colab": {
          "base_uri": "https://localhost:8080/"
        },
        "id": "y0eRRvQKUI8l",
        "outputId": "c91c1efa-68e3-47d8-d4d1-f1139c3106de"
      },
      "outputs": [
        {
          "output_type": "stream",
          "name": "stdout",
          "text": [
            "anda sudah remaja\n"
          ]
        }
      ],
      "source": [
        "umur = 18\n",
        "if umur > 17:\n",
        "  print(\"anda sudah remaja\")"
      ]
    },
    {
      "cell_type": "code",
      "source": [
        "username = input(\"masukkan username\")\n",
        "password = input(\"masukkan password\")\n",
        "if username == \"ariel asbes\" and password == \"B4RL0\":\n",
        "  print(\"anda berhasil login\")\n",
        "  print(\"selamat datang\")\n",
        "else :\n",
        "  print(\"anda gagal\")\n",
        "  print(\"coba lagi\")"
      ],
      "metadata": {
        "colab": {
          "base_uri": "https://localhost:8080/"
        },
        "id": "nQfYc9o4Uti3",
        "outputId": "65ea0d3d-8802-47c2-deb8-33a8897a4738"
      },
      "execution_count": null,
      "outputs": [
        {
          "output_type": "stream",
          "name": "stdout",
          "text": [
            "masukkan usernameariel asbes\n",
            "masukkan passwordB4RL0\n",
            "anda berhasil login\n",
            "selamat datang\n"
          ]
        }
      ]
    },
    {
      "cell_type": "code",
      "source": [
        "ada_notifikasi_baru =   True\n",
        "if ada_notifikasi_baru:\n",
        "  print(\"ada notifikasi baru\")"
      ],
      "metadata": {
        "colab": {
          "base_uri": "https://localhost:8080/"
        },
        "id": "r1hR8YP6WBmy",
        "outputId": "ea9a29b1-6980-43f0-d6c5-a95dd4305135"
      },
      "execution_count": null,
      "outputs": [
        {
          "output_type": "stream",
          "name": "stdout",
          "text": [
            "ada notifikasi baru\n"
          ]
        }
      ]
    },
    {
      "cell_type": "code",
      "source": [],
      "metadata": {
        "id": "voXkHMTIlWI2"
      },
      "execution_count": null,
      "outputs": []
    }
  ]
}