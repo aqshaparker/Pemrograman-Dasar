{
  "nbformat": 4,
  "nbformat_minor": 0,
  "metadata": {
    "colab": {
      "provenance": [],
      "authorship_tag": "ABX9TyOFZWhcujD623F+qIFVqD0K",
      "include_colab_link": true
    },
    "kernelspec": {
      "name": "python3",
      "display_name": "Python 3"
    },
    "language_info": {
      "name": "python"
    }
  },
  "cells": [
    {
      "cell_type": "markdown",
      "metadata": {
        "id": "view-in-github",
        "colab_type": "text"
      },
      "source": [
        "<a href=\"https://colab.research.google.com/github/aqshaparker/Pemrograman-Dasar/blob/main/control_flow_2.ipynb\" target=\"_parent\"><img src=\"https://colab.research.google.com/assets/colab-badge.svg\" alt=\"Open In Colab\"/></a>"
      ]
    },
    {
      "cell_type": "code",
      "execution_count": null,
      "metadata": {
        "colab": {
          "base_uri": "https://localhost:8080/"
        },
        "id": "iapOf7Zhaend",
        "outputId": "dc50b7f5-7967-4d75-9159-da72c453628c"
      },
      "outputs": [
        {
          "output_type": "stream",
          "name": "stdout",
          "text": [
            "total belanja: Rp 9000000\n",
            "selamat karna belanja > 1000000, anda mendapat pajero dan tiket haji\n",
            "dan diskon 2%\n",
            "Total yang harus di bayar: Rp 8820000.0\n",
            "Terimakasih sudah berbelanja di toko kami\n",
            "kami tunggu kedatangan selanjutnya\n"
          ]
        }
      ],
      "source": [
        "total_belanja = int(input(\"total belanja: Rp \"))\n",
        "\n",
        "bayar = int(total_belanja)\n",
        "\n",
        "if int(total_belanja) > 1000000:\n",
        "  print(\"selamat karna belanja > 1000000, anda mendapat pajero dan tiket haji\")\n",
        "  print(\"dan diskon 2%\")\n",
        "  diskon = int(total_belanja) * 2/100\n",
        "  bayar = int(total_belanja) - diskon\n",
        "\n",
        "print(\"Total yang harus di bayar: Rp %s\" % bayar)\n",
        "print(\"Terimakasih sudah berbelanja di toko kami\")\n",
        "print(\"kami tunggu kedatangan selanjutnya\")"
      ]
    },
    {
      "cell_type": "code",
      "source": [
        "umur = input(\"berapa umur kamu? \")\n",
        "if int(umur) >= 17:\n",
        "  print(\"kamu boleh buat KTP\")\n",
        "else:\n",
        "  print(\"kamu belum boleh buat KTP\")"
      ],
      "metadata": {
        "colab": {
          "base_uri": "https://localhost:8080/"
        },
        "id": "q576m6YeamiD",
        "outputId": "95653792-a959-4246-b19c-c2dc5138d46d"
      },
      "execution_count": null,
      "outputs": [
        {
          "output_type": "stream",
          "name": "stdout",
          "text": [
            "berapa umur kamu? 200\n",
            "kamu boleh buat KTP\n"
          ]
        }
      ]
    },
    {
      "cell_type": "code",
      "source": [
        "angka = int(input(\"Masukkan Angka:\"))\n",
        "if angka % 2 == 0:\n",
        "  print(\"Angka Genap\")\n",
        "else:\n",
        "  print(\"Angka Ganjil\")"
      ],
      "metadata": {
        "colab": {
          "base_uri": "https://localhost:8080/"
        },
        "id": "q_UEPh0ubnqC",
        "outputId": "e84d7470-a8b4-44f3-c447-1088bd888fdb"
      },
      "execution_count": null,
      "outputs": [
        {
          "output_type": "stream",
          "name": "stdout",
          "text": [
            "Masukkan Angka:1998\n",
            "Angka Genap\n"
          ]
        }
      ]
    },
    {
      "cell_type": "code",
      "source": [
        "total_belanja = 300000\n",
        "if total_belanja > 200000:\n",
        "  diskon = total_belanja * 10/100\n",
        "  total_bayar = total_belanja - diskon\n",
        "  print(f\"Anda mendapatkan diskon! Total bayar: Rp {total_bayar}\")\n",
        "else:\n",
        "  print(f\"total bayar: Rp {total_belanja}\")"
      ],
      "metadata": {
        "colab": {
          "base_uri": "https://localhost:8080/"
        },
        "id": "6H4RVj8ZcP6T",
        "outputId": "e3779e7d-2d13-4973-f1e4-1e3c9e3fff4b"
      },
      "execution_count": null,
      "outputs": [
        {
          "output_type": "stream",
          "name": "stdout",
          "text": [
            "Anda mendapatkan diskon! Total bayar: Rp 270000.0\n"
          ]
        }
      ]
    },
    {
      "cell_type": "code",
      "source": [
        "nilai = 75\n",
        "if nilai >= 90:\n",
        "  print(\"Spektakuler, anda mendapat A\")\n",
        "elif nilai >= 80:\n",
        "  print(\"Hebat, anda memperoleh B\")\n",
        "elif nilai >= 70:\n",
        "  print(\"C\")\n",
        "  print(\"Lebih semangat lagi\")\n",
        "elif nilai >= 60:\n",
        "  print(\"D\")\n",
        "  print(\"Perbanyak belajar\")"
      ],
      "metadata": {
        "colab": {
          "base_uri": "https://localhost:8080/"
        },
        "id": "fpBdIFaWd20T",
        "outputId": "0b72a2b6-c589-40f6-c2a0-477de91ea95c"
      },
      "execution_count": null,
      "outputs": [
        {
          "output_type": "stream",
          "name": "stdout",
          "text": [
            "C\n",
            "Lebih semangat lagi\n"
          ]
        }
      ]
    },
    {
      "cell_type": "code",
      "source": [
        "hari: str = \"kamis\"\n",
        "\n",
        "if hari == \"Sabtu\" or hari == \"minggu\":\n",
        "  diskon: float = 0.15\n",
        "  print(\"Selamat! Anda mendapat diskon akhir pekan sebanyak 15%\")\n",
        "elif hari == \"senin\" or hari == \"kamis\":\n",
        "  diskon: float = 0.25\n",
        "  print(\"Diskon spesial senin kamis sebesar 25%\")\n",
        "elif hari == \"jumat\":\n",
        "  diskon: float = 0.10\n",
        "  print(\"Diskon jumat berkah sebesar 10%\")\n",
        "else:\n",
        "  diskon: float = 0.5\n",
        "  print(\"diskon hari biasa 5%\")"
      ],
      "metadata": {
        "colab": {
          "base_uri": "https://localhost:8080/"
        },
        "id": "lIyu2bU3e7Zf",
        "outputId": "71054680-2efa-4f2f-d16e-56c7f799e3b9"
      },
      "execution_count": null,
      "outputs": [
        {
          "output_type": "stream",
          "name": "stdout",
          "text": [
            "Diskon spesial senin kamis sebesar 25%\n"
          ]
        }
      ]
    },
    {
      "cell_type": "code",
      "source": [
        "rupiah = int(input(\"masukkan uang anda (Rp): \"))\n",
        "print(\"1. Dollar (USD)\")\n",
        "print(\"2. Jepang (YEN)\")\n",
        "print(\"3. Euro (EUR)\")\n",
        "pilih = int(input(\"pilih konversi (1/2/3): \"))\n",
        "if pilih == 1:\n",
        "  print(\"Dalam Dollar:\", rupiah / 15000)\n",
        "elif pilih == 2:\n",
        "  print(\"Dalam Yen:\", rupiah / 120)\n",
        "elif pilih == 3:\n",
        "  print(\"Dalam Euro:\", rupiah / 16000)\n",
        "else:\n",
        "  print(\"Pilihan anda tidak valid\")"
      ],
      "metadata": {
        "colab": {
          "base_uri": "https://localhost:8080/"
        },
        "id": "7o7FFo7uhDc3",
        "outputId": "8ae12555-86c4-4e87-cd25-06862ee63a7d"
      },
      "execution_count": null,
      "outputs": [
        {
          "output_type": "stream",
          "name": "stdout",
          "text": [
            "masukkan uang anda (Rp): 2000000\n",
            "1. Dollar (USD)\n",
            "2. Jepang (YEN)\n",
            "3. Euro (EUR)\n",
            "pilih konversi (1/2/3): 2\n",
            "Dalam Yen: 16666.666666666668\n"
          ]
        }
      ]
    },
    {
      "cell_type": "code",
      "source": [],
      "metadata": {
        "id": "qqH16yw-jEaR"
      },
      "execution_count": null,
      "outputs": []
    }
  ]
}