{
  "nbformat": 4,
  "nbformat_minor": 0,
  "metadata": {
    "colab": {
      "provenance": [],
      "authorship_tag": "ABX9TyMhuq+qTVGg7ER8TRYPcj9x",
      "include_colab_link": true
    },
    "kernelspec": {
      "name": "python3",
      "display_name": "Python 3"
    },
    "language_info": {
      "name": "python"
    }
  },
  "cells": [
    {
      "cell_type": "markdown",
      "metadata": {
        "id": "view-in-github",
        "colab_type": "text"
      },
      "source": [
        "<a href=\"https://colab.research.google.com/github/aqshaparker/Pemrograman-Dasar/blob/main/Latihan_%26_tugas_control_flow.ipynb\" target=\"_parent\"><img src=\"https://colab.research.google.com/assets/colab-badge.svg\" alt=\"Open In Colab\"/></a>"
      ]
    },
    {
      "cell_type": "code",
      "execution_count": null,
      "metadata": {
        "colab": {
          "base_uri": "https://localhost:8080/"
        },
        "id": "RHkdABi7vEni",
        "outputId": "d00c6261-37cc-4685-b764-1d02d09db9a6"
      },
      "outputs": [
        {
          "output_type": "stream",
          "name": "stdout",
          "text": [
            "masukkan angka30\n",
            "angka adalah kelipatan 5\n"
          ]
        }
      ],
      "source": [
        "angka = input(\"masukkan angka\")\n",
        "angka = int(angka)\n",
        "if angka % 5 == 0:\n",
        "        print(\"angka adalah kelipatan 5\")\n",
        "else:\n",
        "        print(\"angka bukan kelipatan 5\")"
      ]
    },
    {
      "cell_type": "code",
      "source": [
        "Tahun = int(input(\"masukkan tahun\"))\n",
        "if Tahun % 400 == 0:\n",
        "        print(\"tahun kabisat\")\n",
        "elif Tahun % 4 == 0 and Tahun % 100 != 0:\n",
        "        print(\"tahun kabisat\")\n",
        "else:\n",
        "        print(\"tahun bukan kabisat\")"
      ],
      "metadata": {
        "id": "qmxbE8LtvgEC",
        "colab": {
          "base_uri": "https://localhost:8080/"
        },
        "outputId": "1763919f-590d-4b00-ace1-8cfa44522dde"
      },
      "execution_count": null,
      "outputs": [
        {
          "output_type": "stream",
          "name": "stdout",
          "text": [
            "masukkan tahun2024\n",
            "tahun kabisat\n"
          ]
        }
      ]
    },
    {
      "cell_type": "code",
      "source": [
        "angka = int(input(\"Masukkan sebuah bilangan: \"))\n",
        "if angka % 2 == 0:\n",
        "    print(\"Bilangan tersebut adalah genap.\")\n",
        "else:\n",
        "    print(\"Bilangan tersebut adalah ganjil.\")\n"
      ],
      "metadata": {
        "colab": {
          "base_uri": "https://localhost:8080/"
        },
        "id": "Ms4JSozFrLfQ",
        "outputId": "3616ce8e-9eab-4415-c273-d008decd4177"
      },
      "execution_count": null,
      "outputs": [
        {
          "output_type": "stream",
          "name": "stdout",
          "text": [
            "Masukkan sebuah bilangan: 98\n",
            "Bilangan tersebut adalah genap.\n"
          ]
        }
      ]
    },
    {
      "cell_type": "code",
      "source": [
        "nama_bulan = [\n",
        "    \"Januari\", \"Februari\", \"Maret\", \"April\",\n",
        "    \"Mei\", \"Juni\", \"Juli\", \"Agustus\",\n",
        "    \"September\", \"Oktober\", \"November\", \"Desember\"\n",
        "]\n",
        "\n",
        "bulan = int(input(\"Masukkan angka bulan (1-12): \"))\n",
        "\n",
        "if 1 <= bulan <= 12:\n",
        "    print(nama_bulan[bulan - 1])\n",
        "else:\n",
        "    print(\"Input salah\")\n"
      ],
      "metadata": {
        "colab": {
          "base_uri": "https://localhost:8080/"
        },
        "id": "FZWRy70UseUn",
        "outputId": "95e17534-9779-43df-e4eb-abe70afc5895"
      },
      "execution_count": null,
      "outputs": [
        {
          "output_type": "stream",
          "name": "stdout",
          "text": [
            "Masukkan angka bulan (1-12): 9\n",
            "September\n"
          ]
        }
      ]
    },
    {
      "cell_type": "code",
      "source": [
        "jam = int(input(\"Masukkan jam (0-23): \"))\n",
        "\n",
        "if 0 <= jam <= 11:\n",
        "    print(\"Selamat Pagi\")\n",
        "elif 12 <= jam <= 15:\n",
        "    print(\"Selamat Siang\")\n",
        "elif 16 <= jam <= 18:\n",
        "    print(\"Selamat Sore\")\n",
        "elif 19 <= jam <= 23:\n",
        "    print(\"Selamat Malam\")\n",
        "else:\n",
        "    print(\"angka yang kamu masukkan salah, ulangi kembali\")\n"
      ],
      "metadata": {
        "colab": {
          "base_uri": "https://localhost:8080/"
        },
        "id": "nj2HawlkstGJ",
        "outputId": "7525766e-96b9-47f6-92cc-c2e83ff765b0"
      },
      "execution_count": null,
      "outputs": [
        {
          "output_type": "stream",
          "name": "stdout",
          "text": [
            "Masukkan jam (0-23): 21\n",
            "Selamat Malam\n"
          ]
        }
      ]
    },
    {
      "cell_type": "code",
      "source": [
        "print(\"=\"*30)\n",
        "print(\"SELAMAT DATANG DI KAFE GEMINI\")\n",
        "print(\"=\"*30)\n",
        "print(\"Menu Makanan & Minuman:\")\n",
        "print(\"1. Kopi Hitam    - Rp 12.000\")\n",
        "print(\"2. Teh Manis     - Rp 8.000\")\n",
        "print(\"3. Roti Bakar    - Rp 15.000\")\n",
        "print(\"4. Mie Instan    - Rp 10.000\")\n",
        "print(\"=\"*30)\n",
        "pilihan_str = input(\"Silakan masukkan nomor pilihan Anda (1-4): \")\n",
        "pilihan = int(pilihan_str)\n",
        "nama_pesanan = \"\"\n",
        "harga = 0\n",
        "if pilihan == 1:\n",
        "    nama_pesanan = \"Kopi Hitam\"\n",
        "    harga = 12000\n",
        "elif pilihan == 2:\n",
        "    nama_pesanan = \"Teh Manis\"\n",
        "    harga = 8000\n",
        "elif pilihan == 3:\n",
        "    nama_pesanan = \"Roti Bakar\"\n",
        "    harga = 15000\n",
        "elif pilihan == 4:\n",
        "    nama_pesanan = \"Mie Instan\"\n",
        "    harga = 10000\n",
        "else:\n",
        "    print(\"Pilihan tidak valid. Silahkan jalankan ulang program.\")\n",
        "    exit()\n",
        "\n",
        "jumlah_str = input(f\"Total yang harus dibayar (harga satuan Rp {harga}). Masukkan jumlah yang Anda beli: \")\n",
        "jumlah = int(jumlah_str)\n",
        "total_harga = harga * jumlah\n",
        "# Pemberian diskon berdasarkan total harga\n",
        "if total_harga > 100000:\n",
        "    diskon_persen = 70\n",
        "elif total_harga > 50000:\n",
        "    diskon_persen = 50\n",
        "elif total_harga > 30000:\n",
        "    diskon_persen = 30\n",
        "else:\n",
        "    diskon_persen = 0\n",
        "\n",
        "diskon = (diskon_persen / 100) * total_harga\n",
        "harga_setelah_diskon = total_harga - diskon\n",
        "print(f\"\\nPesanan Anda: {nama_pesanan} x {jumlah}\")\n",
        "print(f\"Total Harga sebelum diskon: Rp {total_harga}\")\n",
        "print(f\"Diskon yang diberikan: {diskon_persen}% (Rp {diskon})\")\n",
        "print(f\"Total Harga setelah diskon: Rp {harga_setelah_diskon}\")\n",
        "uang_dibayar_str = input(\"Masukkan jumlah uang yang Anda bayar: Rp \")\n",
        "uang_dibayar = int(uang_dibayar_str)\n",
        "if uang_dibayar >= harga_setelah_diskon:\n",
        "    kembalian = uang_dibayar - harga_setelah_diskon\n",
        "    print(\"\\n--- Struk Pembayaran ---\")\n",
        "    print(f\"Pesanan: {nama_pesanan} x {jumlah}\")\n",
        "    print(f\"Total Harga: Rp {total_harga}\")\n",
        "    print(f\"Diskon: Rp {diskon} ({diskon_persen}%)\")\n",
        "    print(f\"Total Bayar: Rp {harga_setelah_diskon}\")\n",
        "    print(f\"Uang Pembayaran: Rp {uang_dibayar}\")\n",
        "    print(f\"Kembalian: Rp {kembalian}\")\n",
        "    print(\"Terima kasih telah berbelanja!\")\n",
        "else:\n",
        "    kekurangan = harga_setelah_diskon - uang_dibayar\n",
        "    print(f\"Uang Anda kurang sebesar Rp {kekurangan}.\")"
      ],
      "metadata": {
        "colab": {
          "base_uri": "https://localhost:8080/"
        },
        "id": "ImuhCtRVtNAb",
        "outputId": "67ddce99-6538-4e6d-8c74-ad522c360fee"
      },
      "execution_count": null,
      "outputs": [
        {
          "output_type": "stream",
          "name": "stdout",
          "text": [
            "==============================\n",
            "SELAMAT DATANG DI KAFE GEMINI\n",
            "==============================\n",
            "Menu Makanan & Minuman:\n",
            "1. Kopi Hitam    - Rp 12.000\n",
            "2. Teh Manis     - Rp 8.000\n",
            "3. Roti Bakar    - Rp 15.000\n",
            "4. Mie Instan    - Rp 10.000\n",
            "==============================\n",
            "Silakan masukkan nomor pilihan Anda (1-4): 3\n",
            "Total yang harus dibayar (harga satuan Rp 15000). Masukkan jumlah yang Anda beli: 15\n",
            "\n",
            "Pesanan Anda: Roti Bakar x 15\n",
            "Total Harga sebelum diskon: Rp 225000\n",
            "Diskon yang diberikan: 70% (Rp 157500.0)\n",
            "Total Harga setelah diskon: Rp 67500.0\n",
            "Masukkan jumlah uang yang Anda bayar: Rp 100000\n",
            "\n",
            "--- Struk Pembayaran ---\n",
            "Pesanan: Roti Bakar x 15\n",
            "Total Harga: Rp 225000\n",
            "Diskon: Rp 157500.0 (70%)\n",
            "Total Bayar: Rp 67500.0\n",
            "Uang Pembayaran: Rp 100000\n",
            "Kembalian: Rp 32500.0\n",
            "Terima kasih telah berbelanja!\n"
          ]
        }
      ]
    }
  ]
}